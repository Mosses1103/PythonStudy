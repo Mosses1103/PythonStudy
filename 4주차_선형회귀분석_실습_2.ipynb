{
  "nbformat": 4,
  "nbformat_minor": 0,
  "metadata": {
    "kernelspec": {
      "display_name": "Python 3",
      "language": "python",
      "name": "python3"
    },
    "language_info": {
      "codemirror_mode": {
        "name": "ipython",
        "version": 3
      },
      "file_extension": ".py",
      "mimetype": "text/x-python",
      "name": "python",
      "nbconvert_exporter": "python",
      "pygments_lexer": "ipython3",
      "version": "3.7.1"
    },
    "colab": {
      "name": "4주차_선형회귀분석_실습.ipynb",
      "provenance": [],
      "collapsed_sections": []
    }
  },
  "cells": [
    {
      "cell_type": "markdown",
      "metadata": {
        "id": "E3mvaPPRNzko",
        "colab_type": "text"
      },
      "source": [
        "# 4주차_선형회귀분석_정답"
      ]
    },
    {
      "cell_type": "markdown",
      "metadata": {
        "id": "2aaojju7Nzkp",
        "colab_type": "text"
      },
      "source": [
        "## 모듈 불러오기"
      ]
    },
    {
      "cell_type": "code",
      "metadata": {
        "id": "ONpmKx3qNzkq",
        "colab_type": "code",
        "colab": {}
      },
      "source": [
        "from IPython.display import display, HTML\n",
        "\n",
        "# 데이터 전처리 패키지\n",
        "import numpy as np\n",
        "import pandas as pd\n",
        "\n",
        "# 기계학습 모델 구축 및 성능 평가 패키지\n",
        "import statsmodels.api as sm\n",
        "from sklearn.model_selection import train_test_split\n",
        "from sklearn.metrics import mean_squared_error, r2_score, mean_absolute_error\n",
        "\n",
        "# 데이터 시각화 패키지\n",
        "import seaborn as sns\n",
        "import matplotlib.pyplot as plt\n",
        "import matplotlib.font_manager as fm\n",
        "\n",
        "# 한글 폰트 설정\n",
        "plt.rc('font', family='Malgun Gothic')"
      ],
      "execution_count": 0,
      "outputs": []
    },
    {
      "cell_type": "markdown",
      "metadata": {
        "id": "bC0i1CqFNzks",
        "colab_type": "text"
      },
      "source": [
        "## 데이터 불러오기\n",
        "\n",
        "### Toyota Corolla Data\n",
        "### 중고차 가격(Price)를 예측하기 위한 예측모델 학습"
      ]
    },
    {
      "cell_type": "code",
      "metadata": {
        "id": "wFl3uBboOcMd",
        "colab_type": "code",
        "colab": {}
      },
      "source": [
        "import io\n",
        "import requests"
      ],
      "execution_count": 0,
      "outputs": []
    },
    {
      "cell_type": "code",
      "metadata": {
        "id": "isMNe1wAPupe",
        "colab_type": "code",
        "colab": {}
      },
      "source": [
        "url = \"https://raw.githubusercontent.com/Mosses1103/PythonStudy/master/WEEK_4_Data/ToyotaCorolla.csv\"\n",
        "#url = 'https://raw.githubusercontent.com/Mosses1103/PythonStudy/master/WEEK_4_Data/Parkinson.csv'"
      ],
      "execution_count": 0,
      "outputs": []
    },
    {
      "cell_type": "code",
      "metadata": {
        "scrolled": true,
        "id": "b44wSFsLNzku",
        "colab_type": "code",
        "colab": {}
      },
      "source": [
        "data = pd.read_csv(url)"
      ],
      "execution_count": 0,
      "outputs": []
    },
    {
      "cell_type": "code",
      "metadata": {
        "id": "jLcEgx66rcUJ",
        "colab_type": "code",
        "colab": {
          "base_uri": "https://localhost:8080/",
          "height": 751
        },
        "outputId": "f9171292-5777-4c54-8207-b47806591fd5"
      },
      "source": [
        "display(data.head())"
      ],
      "execution_count": 33,
      "outputs": [
        {
          "output_type": "display_data",
          "data": {
            "text/html": [
              "<div>\n",
              "<style scoped>\n",
              "    .dataframe tbody tr th:only-of-type {\n",
              "        vertical-align: middle;\n",
              "    }\n",
              "\n",
              "    .dataframe tbody tr th {\n",
              "        vertical-align: top;\n",
              "    }\n",
              "\n",
              "    .dataframe thead th {\n",
              "        text-align: right;\n",
              "    }\n",
              "</style>\n",
              "<table border=\"1\" class=\"dataframe\">\n",
              "  <thead>\n",
              "    <tr style=\"text-align: right;\">\n",
              "      <th></th>\n",
              "      <th>Id</th>\n",
              "      <th>Model</th>\n",
              "      <th>Price</th>\n",
              "      <th>Age_08_04</th>\n",
              "      <th>Mfg_Month</th>\n",
              "      <th>Mfg_Year</th>\n",
              "      <th>KM</th>\n",
              "      <th>Fuel_Type</th>\n",
              "      <th>HP</th>\n",
              "      <th>Met_Color</th>\n",
              "      <th>Automatic</th>\n",
              "      <th>cc</th>\n",
              "      <th>Doors</th>\n",
              "      <th>Cylinders</th>\n",
              "      <th>Gears</th>\n",
              "      <th>Quarterly_Tax</th>\n",
              "      <th>Weight</th>\n",
              "      <th>Mfr_Guarantee</th>\n",
              "      <th>BOVAG_Guarantee</th>\n",
              "      <th>Guarantee_Period</th>\n",
              "      <th>ABS</th>\n",
              "      <th>Airbag_1</th>\n",
              "      <th>Airbag_2</th>\n",
              "      <th>Airco</th>\n",
              "      <th>Automatic_airco</th>\n",
              "      <th>Boardcomputer</th>\n",
              "      <th>CD_Player</th>\n",
              "      <th>Central_Lock</th>\n",
              "      <th>Powered_Windows</th>\n",
              "      <th>Power_Steering</th>\n",
              "      <th>Radio</th>\n",
              "      <th>Mistlamps</th>\n",
              "      <th>Sport_Model</th>\n",
              "      <th>Backseat_Divider</th>\n",
              "      <th>Metallic_Rim</th>\n",
              "      <th>Radio_cassette</th>\n",
              "      <th>Tow_Bar</th>\n",
              "    </tr>\n",
              "  </thead>\n",
              "  <tbody>\n",
              "    <tr>\n",
              "      <th>0</th>\n",
              "      <td>1</td>\n",
              "      <td>TOYOTA Corolla 2.0 D4D HATCHB TERRA 2/3-Doors</td>\n",
              "      <td>13500</td>\n",
              "      <td>23</td>\n",
              "      <td>10</td>\n",
              "      <td>2002</td>\n",
              "      <td>46986</td>\n",
              "      <td>Diesel</td>\n",
              "      <td>90</td>\n",
              "      <td>1</td>\n",
              "      <td>0</td>\n",
              "      <td>2000</td>\n",
              "      <td>3</td>\n",
              "      <td>4</td>\n",
              "      <td>5</td>\n",
              "      <td>210</td>\n",
              "      <td>1165</td>\n",
              "      <td>0</td>\n",
              "      <td>1</td>\n",
              "      <td>3</td>\n",
              "      <td>1</td>\n",
              "      <td>1</td>\n",
              "      <td>1</td>\n",
              "      <td>0</td>\n",
              "      <td>0</td>\n",
              "      <td>1</td>\n",
              "      <td>0</td>\n",
              "      <td>1</td>\n",
              "      <td>1</td>\n",
              "      <td>1</td>\n",
              "      <td>0</td>\n",
              "      <td>0</td>\n",
              "      <td>0</td>\n",
              "      <td>1</td>\n",
              "      <td>0</td>\n",
              "      <td>0</td>\n",
              "      <td>0</td>\n",
              "    </tr>\n",
              "    <tr>\n",
              "      <th>1</th>\n",
              "      <td>2</td>\n",
              "      <td>TOYOTA Corolla 2.0 D4D HATCHB TERRA 2/3-Doors</td>\n",
              "      <td>13750</td>\n",
              "      <td>23</td>\n",
              "      <td>10</td>\n",
              "      <td>2002</td>\n",
              "      <td>72937</td>\n",
              "      <td>Diesel</td>\n",
              "      <td>90</td>\n",
              "      <td>1</td>\n",
              "      <td>0</td>\n",
              "      <td>2000</td>\n",
              "      <td>3</td>\n",
              "      <td>4</td>\n",
              "      <td>5</td>\n",
              "      <td>210</td>\n",
              "      <td>1165</td>\n",
              "      <td>0</td>\n",
              "      <td>1</td>\n",
              "      <td>3</td>\n",
              "      <td>1</td>\n",
              "      <td>1</td>\n",
              "      <td>1</td>\n",
              "      <td>1</td>\n",
              "      <td>0</td>\n",
              "      <td>1</td>\n",
              "      <td>1</td>\n",
              "      <td>1</td>\n",
              "      <td>0</td>\n",
              "      <td>1</td>\n",
              "      <td>0</td>\n",
              "      <td>0</td>\n",
              "      <td>0</td>\n",
              "      <td>1</td>\n",
              "      <td>0</td>\n",
              "      <td>0</td>\n",
              "      <td>0</td>\n",
              "    </tr>\n",
              "    <tr>\n",
              "      <th>2</th>\n",
              "      <td>3</td>\n",
              "      <td>?TOYOTA Corolla 2.0 D4D HATCHB TERRA 2/3-Doors</td>\n",
              "      <td>13950</td>\n",
              "      <td>24</td>\n",
              "      <td>9</td>\n",
              "      <td>2002</td>\n",
              "      <td>41711</td>\n",
              "      <td>Diesel</td>\n",
              "      <td>90</td>\n",
              "      <td>1</td>\n",
              "      <td>0</td>\n",
              "      <td>2000</td>\n",
              "      <td>3</td>\n",
              "      <td>4</td>\n",
              "      <td>5</td>\n",
              "      <td>210</td>\n",
              "      <td>1165</td>\n",
              "      <td>1</td>\n",
              "      <td>1</td>\n",
              "      <td>3</td>\n",
              "      <td>1</td>\n",
              "      <td>1</td>\n",
              "      <td>1</td>\n",
              "      <td>0</td>\n",
              "      <td>0</td>\n",
              "      <td>1</td>\n",
              "      <td>0</td>\n",
              "      <td>0</td>\n",
              "      <td>0</td>\n",
              "      <td>1</td>\n",
              "      <td>0</td>\n",
              "      <td>0</td>\n",
              "      <td>0</td>\n",
              "      <td>1</td>\n",
              "      <td>0</td>\n",
              "      <td>0</td>\n",
              "      <td>0</td>\n",
              "    </tr>\n",
              "    <tr>\n",
              "      <th>3</th>\n",
              "      <td>4</td>\n",
              "      <td>TOYOTA Corolla 2.0 D4D HATCHB TERRA 2/3-Doors</td>\n",
              "      <td>14950</td>\n",
              "      <td>26</td>\n",
              "      <td>7</td>\n",
              "      <td>2002</td>\n",
              "      <td>48000</td>\n",
              "      <td>Diesel</td>\n",
              "      <td>90</td>\n",
              "      <td>0</td>\n",
              "      <td>0</td>\n",
              "      <td>2000</td>\n",
              "      <td>3</td>\n",
              "      <td>4</td>\n",
              "      <td>5</td>\n",
              "      <td>210</td>\n",
              "      <td>1165</td>\n",
              "      <td>1</td>\n",
              "      <td>1</td>\n",
              "      <td>3</td>\n",
              "      <td>1</td>\n",
              "      <td>1</td>\n",
              "      <td>1</td>\n",
              "      <td>0</td>\n",
              "      <td>0</td>\n",
              "      <td>1</td>\n",
              "      <td>0</td>\n",
              "      <td>0</td>\n",
              "      <td>0</td>\n",
              "      <td>1</td>\n",
              "      <td>0</td>\n",
              "      <td>0</td>\n",
              "      <td>0</td>\n",
              "      <td>1</td>\n",
              "      <td>0</td>\n",
              "      <td>0</td>\n",
              "      <td>0</td>\n",
              "    </tr>\n",
              "    <tr>\n",
              "      <th>4</th>\n",
              "      <td>5</td>\n",
              "      <td>TOYOTA Corolla 2.0 D4D HATCHB SOL 2/3-Doors</td>\n",
              "      <td>13750</td>\n",
              "      <td>30</td>\n",
              "      <td>3</td>\n",
              "      <td>2002</td>\n",
              "      <td>38500</td>\n",
              "      <td>Diesel</td>\n",
              "      <td>90</td>\n",
              "      <td>0</td>\n",
              "      <td>0</td>\n",
              "      <td>2000</td>\n",
              "      <td>3</td>\n",
              "      <td>4</td>\n",
              "      <td>5</td>\n",
              "      <td>210</td>\n",
              "      <td>1170</td>\n",
              "      <td>1</td>\n",
              "      <td>1</td>\n",
              "      <td>3</td>\n",
              "      <td>1</td>\n",
              "      <td>1</td>\n",
              "      <td>1</td>\n",
              "      <td>1</td>\n",
              "      <td>0</td>\n",
              "      <td>1</td>\n",
              "      <td>0</td>\n",
              "      <td>1</td>\n",
              "      <td>1</td>\n",
              "      <td>1</td>\n",
              "      <td>0</td>\n",
              "      <td>1</td>\n",
              "      <td>0</td>\n",
              "      <td>1</td>\n",
              "      <td>0</td>\n",
              "      <td>0</td>\n",
              "      <td>0</td>\n",
              "    </tr>\n",
              "  </tbody>\n",
              "</table>\n",
              "</div>"
            ],
            "text/plain": [
              "   Id                                           Model  ...  Radio_cassette  Tow_Bar\n",
              "0   1   TOYOTA Corolla 2.0 D4D HATCHB TERRA 2/3-Doors  ...               0        0\n",
              "1   2   TOYOTA Corolla 2.0 D4D HATCHB TERRA 2/3-Doors  ...               0        0\n",
              "2   3  ?TOYOTA Corolla 2.0 D4D HATCHB TERRA 2/3-Doors  ...               0        0\n",
              "3   4   TOYOTA Corolla 2.0 D4D HATCHB TERRA 2/3-Doors  ...               0        0\n",
              "4   5     TOYOTA Corolla 2.0 D4D HATCHB SOL 2/3-Doors  ...               0        0\n",
              "\n",
              "[5 rows x 37 columns]"
            ]
          },
          "metadata": {
            "tags": []
          }
        }
      ]
    },
    {
      "cell_type": "code",
      "metadata": {
        "id": "IrTe0zWfr0I3",
        "colab_type": "code",
        "colab": {}
      },
      "source": [
        "display(data['Price'].head())"
      ],
      "execution_count": 0,
      "outputs": []
    },
    {
      "cell_type": "code",
      "metadata": {
        "id": "W7BC6dBfsG_v",
        "colab_type": "code",
        "colab": {}
      },
      "source": [
        "data.drop('Price',axis=1).head()"
      ],
      "execution_count": 0,
      "outputs": []
    },
    {
      "cell_type": "markdown",
      "metadata": {
        "id": "rdRNr9IyNzkw",
        "colab_type": "text"
      },
      "source": [
        "## 데이터 전처리하기\n",
        "### 1. 예측에 필요하지 않은 변수 제거\n",
        "- 'id', 'Model', 'Fuel_Type'"
      ]
    },
    {
      "cell_type": "code",
      "metadata": {
        "scrolled": false,
        "id": "L70BxB1MNzkx",
        "colab_type": "code",
        "colab": {}
      },
      "source": [
        "data = data.drop([_________________], axis=1) # 써주세요!"
      ],
      "execution_count": 0,
      "outputs": []
    },
    {
      "cell_type": "code",
      "metadata": {
        "id": "s5_BzLiHrnjf",
        "colab_type": "code",
        "colab": {}
      },
      "source": [
        "data.head()"
      ],
      "execution_count": 0,
      "outputs": []
    },
    {
      "cell_type": "markdown",
      "metadata": {
        "id": "3n705hm4Nzkz",
        "colab_type": "text"
      },
      "source": [
        "### 2. 학습 데이터와 테스트 데이터로 분리\n",
        "- test_size = 0.2\n",
        "- random_state = 오늘날짜"
      ]
    },
    {
      "cell_type": "code",
      "metadata": {
        "id": "9JJymAMLNzk0",
        "colab_type": "code",
        "colab": {}
      },
      "source": [
        "train_data, test_data = train_test_split(____, test_size=___, random_state=________) # 세 곳 써주세요!"
      ],
      "execution_count": 0,
      "outputs": []
    },
    {
      "cell_type": "markdown",
      "metadata": {
        "id": "Qt_sMAikNzk2",
        "colab_type": "text"
      },
      "source": [
        "## 모델링"
      ]
    },
    {
      "cell_type": "markdown",
      "metadata": {
        "id": "rHJwz0VsNzk3",
        "colab_type": "text"
      },
      "source": [
        "### 학습 데이터를 이용하여 선형회귀모델 학습"
      ]
    },
    {
      "cell_type": "code",
      "metadata": {
        "id": "Ulf36bdzNzk4",
        "colab_type": "code",
        "colab": {}
      },
      "source": [
        "lm = sm.___(train_data['Price'], __________________________________) # 두 곳 써주세요!\n",
        "lm_trained = lm.fit()"
      ],
      "execution_count": 0,
      "outputs": []
    },
    {
      "cell_type": "markdown",
      "metadata": {
        "id": "fvZTDGqzNzk6",
        "colab_type": "text"
      },
      "source": [
        "### 모델 학습 결과 (Summary) 확인"
      ]
    },
    {
      "cell_type": "code",
      "metadata": {
        "id": "fk0i6qfyNzk7",
        "colab_type": "code",
        "colab": {}
      },
      "source": [
        "lm_trained.summary()"
      ],
      "execution_count": 0,
      "outputs": []
    },
    {
      "cell_type": "markdown",
      "metadata": {
        "id": "XOuPi7ZgNzk9",
        "colab_type": "text"
      },
      "source": [
        "## 예측성능 평가"
      ]
    },
    {
      "cell_type": "markdown",
      "metadata": {
        "id": "Mf_hSQsNNzk-",
        "colab_type": "text"
      },
      "source": [
        "### 1. 학습 데이터셋에 대한 예측성능 평가\n",
        "MSE, RMSE 계산하여 성능 확인"
      ]
    },
    {
      "cell_type": "code",
      "metadata": {
        "id": "g1VyeNLVy_YK",
        "colab_type": "code",
        "colab": {}
      },
      "source": [
        "train_data.head()"
      ],
      "execution_count": 0,
      "outputs": []
    },
    {
      "cell_type": "code",
      "metadata": {
        "id": "4FGcVilsNzk_",
        "colab_type": "code",
        "colab": {}
      },
      "source": [
        "train_pred = lm_trained.predict(________________________________) # 써주세요!\n",
        "\n",
        "print('Training MSE: {:.3f}'.format(mean_squared_error(train_data['Price'], train_pred)))\n",
        "print('Training RMSE: {:.3f}'.format(np.sqrt(mean_squared_error(train_data['Price'], train_pred))))"
      ],
      "execution_count": 0,
      "outputs": []
    },
    {
      "cell_type": "markdown",
      "metadata": {
        "id": "i87GbkTvNzlB",
        "colab_type": "text"
      },
      "source": [
        "### 2. 테스트 데이터셋에 대한 예측성능 평가\n",
        "MSE, RMSE 계산하여 성능 확인"
      ]
    },
    {
      "cell_type": "code",
      "metadata": {
        "id": "8dcSwl-KzD8Y",
        "colab_type": "code",
        "colab": {}
      },
      "source": [
        "test_data.head()"
      ],
      "execution_count": 0,
      "outputs": []
    },
    {
      "cell_type": "code",
      "metadata": {
        "id": "saQw5RdYNzlB",
        "colab_type": "code",
        "colab": {}
      },
      "source": [
        "test_pred = lm_trained.predict(________________________________) # 써주세요!\n",
        "\n",
        "print('Testing MSE: {:.3f}'.format(mean_squared_error(test_data['Price'], test_pred)))\n",
        "print('Training RMSE: {:.3f}'.format(np.sqrt(mean_squared_error(test_data['Price'], test_pred))))"
      ],
      "execution_count": 0,
      "outputs": []
    },
    {
      "cell_type": "markdown",
      "metadata": {
        "id": "drRru_0tNzlE",
        "colab_type": "text"
      },
      "source": [
        "## 결과 출력"
      ]
    },
    {
      "cell_type": "code",
      "metadata": {
        "id": "7yKuJLWJo6Yu",
        "colab_type": "code",
        "colab": {}
      },
      "source": [
        "plt.scatter(train_data['Price'], ____________) # 써주세요!\n",
        "plt.xlabel(\"실제 중고차 값\")\n",
        "plt.ylabel(\"예측 중고차 값\")\n",
        "plt.title(\"실제 중고차 값과 예측 중고차 값의 관계\")\n",
        "plt.show()"
      ],
      "execution_count": 0,
      "outputs": []
    },
    {
      "cell_type": "code",
      "metadata": {
        "id": "GVSs5kDeqYIF",
        "colab_type": "code",
        "colab": {}
      },
      "source": [
        "plt.scatter(test_data['Price'], _____________) # 써주세요!\n",
        "plt.xlabel(\"실제 중고차 값\")\n",
        "plt.ylabel(\"예측 중고차 값\")\n",
        "plt.title(\"실제 중고차 값과 예측 중고차 값의 관계\")\n",
        "plt.show()"
      ],
      "execution_count": 0,
      "outputs": []
    },
    {
      "cell_type": "code",
      "metadata": {
        "id": "g5tGeVXRzsPh",
        "colab_type": "code",
        "colab": {}
      },
      "source": [
        ""
      ],
      "execution_count": 0,
      "outputs": []
    }
  ]
}